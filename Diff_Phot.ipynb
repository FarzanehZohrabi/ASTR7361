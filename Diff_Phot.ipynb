{
 "cells": [
  {
   "cell_type": "code",
   "execution_count": 48,
   "metadata": {
    "execution": {
     "iopub.execute_input": "2022-12-07T09:11:58.970058Z",
     "iopub.status.busy": "2022-12-07T09:11:58.969154Z",
     "iopub.status.idle": "2022-12-07T09:11:59.144738Z",
     "shell.execute_reply": "2022-12-07T09:11:59.142842Z",
     "shell.execute_reply.started": "2022-12-07T09:11:58.969981Z"
    },
    "tags": []
   },
   "outputs": [],
   "source": [
    "import sys\n",
    "sys.path.append('/home/idies/workspace/Storage/fzohrabi/persistent/hrpo-pipeline')\n",
    "\n",
    "import aperturePhot as ap\n",
    "from photutils.aperture import CircularAperture\n",
    "from pathlib import Path\n",
    "from photutils.detection import DAOStarFinder as DAO\n",
    "from astropy.nddata import CCDData\n",
    "from astropy.io import fits\n",
    "import numpy as np\n",
    "import matplotlib.pyplot as plt\n",
    "import os\n",
    "import csv\n",
    "from astropy.coordinates import SkyCoord  # High-level coordinates\n",
    "import warnings\n",
    "warnings.simplefilter(\"ignore\")\n",
    "import pandas as pd\n",
    "from uncertainties import ufloat\n",
    "#import plateSolve\n",
    "%matplotlib inline\n",
    "\n",
    "datadir = '/home/idies/workspace/Temporary/fzohrabi/scratch/SN/SN2022xzm/Data'\n",
    "path = Path(datadir)\n",
    "os.chdir(path)"
   ]
  },
  {
   "cell_type": "code",
   "execution_count": 49,
   "metadata": {
    "execution": {
     "iopub.execute_input": "2022-12-07T09:12:01.925717Z",
     "iopub.status.busy": "2022-12-07T09:12:01.925105Z",
     "iopub.status.idle": "2022-12-07T09:12:01.975037Z",
     "shell.execute_reply": "2022-12-07T09:12:01.972698Z",
     "shell.execute_reply.started": "2022-12-07T09:12:01.925613Z"
    },
    "tags": []
   },
   "outputs": [],
   "source": [
    "dataV = pd.read_csv(\"Phot_xzm_V.txt\", sep = '\\s+')\n",
    "dataR = pd.read_csv(\"Phot_xzm_R.txt\", sep = '\\s+')"
   ]
  },
  {
   "cell_type": "code",
   "execution_count": 59,
   "metadata": {
    "execution": {
     "iopub.execute_input": "2022-12-07T09:16:18.979493Z",
     "iopub.status.busy": "2022-12-07T09:16:18.978914Z",
     "iopub.status.idle": "2022-12-07T09:16:19.000366Z",
     "shell.execute_reply": "2022-12-07T09:16:18.998393Z",
     "shell.execute_reply.started": "2022-12-07T09:16:18.979440Z"
    },
    "tags": []
   },
   "outputs": [
    {
     "name": "stdout",
     "output_type": "stream",
     "text": [
      "13.2448+/-0.0029 13.6133+/-0.0031\n"
     ]
    }
   ],
   "source": [
    "\n",
    "BP = 13.784259\n",
    "BP_err = 0.002858\n",
    "RP = 12.973974\n",
    "RP_err= 0.003819\n",
    "G = 13.463849\n",
    "G_err=0.002761\n",
    "BP2= ufloat(13.784259,0.002858)\n",
    "RP2 = ufloat(12.973974,0.003819)\n",
    "G2= ufloat(13.463849,0.002761)\n",
    "GaiaR = 0.003226-(0.3833*(BP2-RP2))+(0.1345*(BP2-RP2)**2)+G2\n",
    "GaiaV = 0.02704-0.01424*(BP2-RP2) + (0.2156*(BP2-RP2)**2) - ( 0.01426*(BP2-RP2)**3)+G2\n",
    "\n",
    "GaiaR_value = 13.2448\n",
    "GaiaV_value = 13.6133\n",
    "GaiaR_err = 0.0029\n",
    "GaiaV_err = 0.0031\n",
    "\n",
    "print(GaiaR, GaiaV)"
   ]
  },
  {
   "cell_type": "code",
   "execution_count": null,
   "metadata": {
    "tags": []
   },
   "outputs": [],
   "source": [
    "SN_R = dataR['SN']\n",
    "SN_V = dataV['SN']\n",
    "\n",
    "SN_err_R = dataR['SNerr']\n",
    "SN_err_V = dataV['SNerr']\n",
    "\n",
    "Ref_R = dataR['Ref']\n",
    "Ref_err_R = dataR['Referr']\n",
    "\n",
    "Ref_V = dataV['Ref']\n",
    "Ref_err_V = dataV['Referr']\n",
    "print (SN_R,SN_err_R,Ref_R, Ref_err_R)\n",
    "print(ufloat(SN_R, SN_err_R))\n",
    "\n",
    "diff_SN_R = ufloat(SN_R, SN_err_R)-ufloat(Ref_R,Ref_err_R)\n",
    "diff_SN_V = ufloat(SN_V, SN_err_V)-ufloat(Ref_V,Ref_err_V)\n",
    "\n",
    "\n",
    "\n",
    "new_SN_R = diff_SN_R+GaiaR\n",
    "new_SN_V = diff_SN_V+GaiaV\n",
    "\n",
    "print(GaiaR,\"\\n\", diff_SN_R,\"\\n\",new_SN_R, Ref_R)"
   ]
  },
  {
   "cell_type": "code",
   "execution_count": 32,
   "metadata": {
    "execution": {
     "iopub.execute_input": "2022-12-04T22:39:00.981862Z",
     "iopub.status.busy": "2022-12-04T22:39:00.981056Z",
     "iopub.status.idle": "2022-12-04T22:39:01.021522Z",
     "shell.execute_reply": "2022-12-04T22:39:01.019909Z",
     "shell.execute_reply.started": "2022-12-04T22:39:00.981806Z"
    },
    "tags": []
   },
   "outputs": [],
   "source": [
    "dataR['SN-A'] = diff_SN_R\n",
    "dataV['SN-A'] = diff_SN_V\n",
    "\n",
    "\n",
    "dataR['SN_R'] = new_SN_R\n",
    "dataV['SN_V'] = new_SN_V\n",
    "\n",
    "dataR['SN_R_err'] = SN_R_err\n",
    "dataV['SN_V_err'] = SN_V_err"
   ]
  },
  {
   "cell_type": "code",
   "execution_count": null,
   "metadata": {
    "tags": []
   },
   "outputs": [],
   "source": [
    "import pandas as pd\n",
    "\n",
    "snpy_V = pd.DataFrame(dataV)\n",
    "snpy_V = snpy_V.drop(columns=[ \"SN_V\"   ])\n",
    "snpy_R = pd.DataFrame(dataR)\n",
    "snpy_R = snpy_R.drop(columns=[ \"SN_R\" ])\n",
    "\n"
   ]
  },
  {
   "cell_type": "code",
   "execution_count": 30,
   "metadata": {
    "execution": {
     "iopub.execute_input": "2022-12-04T22:18:09.775045Z",
     "iopub.status.busy": "2022-12-04T22:18:09.774356Z",
     "iopub.status.idle": "2022-12-04T22:18:09.833983Z",
     "shell.execute_reply": "2022-12-04T22:18:09.832212Z",
     "shell.execute_reply.started": "2022-12-04T22:18:09.774982Z"
    },
    "tags": []
   },
   "outputs": [],
   "source": [
    "snpy_R.to_csv(r'snpy_xzm_R.txt',index = None, sep=' ', mode='a')\n"
   ]
  },
  {
   "cell_type": "code",
   "execution_count": 31,
   "metadata": {
    "execution": {
     "iopub.execute_input": "2022-12-04T22:18:11.783810Z",
     "iopub.status.busy": "2022-12-04T22:18:11.782595Z",
     "iopub.status.idle": "2022-12-04T22:18:11.822864Z",
     "shell.execute_reply": "2022-12-04T22:18:11.821009Z",
     "shell.execute_reply.started": "2022-12-04T22:18:11.783759Z"
    },
    "tags": []
   },
   "outputs": [],
   "source": [
    "snpy_V.to_csv(r'snpy_xzm_V.txt',index = None, sep=' ', mode='a')"
   ]
  },
  {
   "cell_type": "code",
   "execution_count": null,
   "metadata": {},
   "outputs": [],
   "source": []
  }
 ],
 "metadata": {
  "kernelspec": {
   "display_name": "Python 3.8 (py38)",
   "language": "python",
   "name": "py38"
  },
  "language_info": {
   "codemirror_mode": {
    "name": "ipython",
    "version": 3
   },
   "file_extension": ".py",
   "mimetype": "text/x-python",
   "name": "python",
   "nbconvert_exporter": "python",
   "pygments_lexer": "ipython3",
   "version": "3.8.5"
  }
 },
 "nbformat": 4,
 "nbformat_minor": 4
}
