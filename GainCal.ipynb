{
 "cells": [
  {
   "cell_type": "code",
   "execution_count": 1,
   "metadata": {
    "execution": {
     "iopub.execute_input": "2022-09-23T02:53:06.615205Z",
     "iopub.status.busy": "2022-09-23T02:53:06.614632Z",
     "iopub.status.idle": "2022-09-23T02:53:10.146604Z",
     "shell.execute_reply": "2022-09-23T02:53:10.144794Z",
     "shell.execute_reply.started": "2022-09-23T02:53:06.615154Z"
    },
    "tags": []
   },
   "outputs": [],
   "source": [
    "import numpy as np\n",
    "from astropy.nddata import CCDData\n",
    "from astropy import units as u\n",
    "import ccdproc\n",
    "import os\n",
    "import math\n",
    "os.chdir('/home/idies/workspace/Temporary/fzohrabi/scratch/20220920')"
   ]
  },
  {
   "cell_type": "code",
   "execution_count": 2,
   "metadata": {
    "execution": {
     "iopub.execute_input": "2022-09-23T02:53:10.163260Z",
     "iopub.status.busy": "2022-09-23T02:53:10.162872Z",
     "iopub.status.idle": "2022-09-23T02:53:10.237657Z",
     "shell.execute_reply": "2022-09-23T02:53:10.236117Z",
     "shell.execute_reply.started": "2022-09-23T02:53:10.163217Z"
    },
    "tags": []
   },
   "outputs": [],
   "source": [
    "B1 = CCDData.read('Bias-001.fit', unit=\"adu\") \n",
    "B2 = CCDData.read('Bias-002.fit', unit=\"adu\") \n",
    "#B1 = B1.data.astype(np.float)\n",
    "#B2 = B2.data.astype(np.float)"
   ]
  },
  {
   "cell_type": "code",
   "execution_count": 3,
   "metadata": {
    "execution": {
     "iopub.execute_input": "2022-09-23T02:53:12.600213Z",
     "iopub.status.busy": "2022-09-23T02:53:12.599632Z",
     "iopub.status.idle": "2022-09-23T02:53:12.670422Z",
     "shell.execute_reply": "2022-09-23T02:53:12.668484Z",
     "shell.execute_reply.started": "2022-09-23T02:53:12.600162Z"
    },
    "tags": []
   },
   "outputs": [],
   "source": [
    "F1 = CCDData.read('DomeFlat-001V.fit', unit=\"adu\") \n",
    "F2 = CCDData.read('DomeFlat-002V.fit', unit=\"adu\") \n",
    "#F1 = F1.data.astype(np.float)\n",
    "#F2 = F2.data.astype(np.float)"
   ]
  },
  {
   "cell_type": "code",
   "execution_count": 6,
   "metadata": {
    "execution": {
     "iopub.execute_input": "2022-09-23T02:53:41.938619Z",
     "iopub.status.busy": "2022-09-23T02:53:41.937964Z",
     "iopub.status.idle": "2022-09-23T02:53:41.966532Z",
     "shell.execute_reply": "2022-09-23T02:53:41.964038Z",
     "shell.execute_reply.started": "2022-09-23T02:53:41.938566Z"
    },
    "tags": []
   },
   "outputs": [],
   "source": [
    "\n",
    "def gainfunc(B1, B2, F1, F2):\n",
    "    im = [B1, B2, F1, F2]\n",
    "    B1 = B1.data.astype(np.float)\n",
    "    B2 = B2.data.astype(np.float)\n",
    "    F1 = F1.data.astype(np.float)\n",
    "    F2 =F2.data.astype(np.float)\n",
    "    avgs = []\n",
    "    sigmas = []\n",
    "\n",
    "    for x in im:\n",
    "        xbar = np.mean(x)\n",
    "        #sigma = np.std(x)\n",
    "        #var = np.var(x)\n",
    "\n",
    "        avgs.append(xbar)\n",
    "        #sigmas.append(sigma)\n",
    "\n",
    "    Bdif = B2 - B1\n",
    "    Fdif = F2 - F1\n",
    "    varB = np.var(Bdif)\n",
    "    varF = np.var(Fdif)\n",
    "    #sigmas.append(sigmaB)\n",
    "    #sigmas.append(sigmaF)\n",
    "    #sigmabias_adu = math.sqrt((sigmas[0])**2 - (sigmas[1])**2)\n",
    "    #sigmaflat_adu = math.sqrt((sigmas[2])**2 - (sigmas[3])**2)\n",
    "    gain = ((avgs[2]-avgs[0]) + (avgs[3]-avgs[1])) / (varF - varB)\n",
    "    #gain = ((avgs[2]-avgs[0]) + (avgs[3]-avgs[1])) / (sigmaflat_adu**2 - sigmabias_adu**2)\n",
    "\n",
    "    #sigma_bias = gain *sigmabias_adu\n",
    "    #sigma_flat = gain *sigmaflat_adu\n",
    "    return(gain)\n",
    "    #return(sigma_bias, sigma_flat, gain)\n"
   ]
  },
  {
   "cell_type": "code",
   "execution_count": 7,
   "metadata": {
    "execution": {
     "iopub.execute_input": "2022-09-23T02:53:43.828536Z",
     "iopub.status.busy": "2022-09-23T02:53:43.827932Z",
     "iopub.status.idle": "2022-09-23T02:53:43.963035Z",
     "shell.execute_reply": "2022-09-23T02:53:43.961156Z",
     "shell.execute_reply.started": "2022-09-23T02:53:43.828473Z"
    },
    "tags": []
   },
   "outputs": [
    {
     "data": {
      "text/plain": [
       "1.543382520964314"
      ]
     },
     "execution_count": 7,
     "metadata": {},
     "output_type": "execute_result"
    }
   ],
   "source": [
    "gainfunc(B1, B2, F1, F2)"
   ]
  },
  {
   "cell_type": "code",
   "execution_count": null,
   "metadata": {},
   "outputs": [],
   "source": []
  }
 ],
 "metadata": {
  "kernelspec": {
   "display_name": "Python 3.8 (py38)",
   "language": "python",
   "name": "py38"
  },
  "language_info": {
   "codemirror_mode": {
    "name": "ipython",
    "version": 3
   },
   "file_extension": ".py",
   "mimetype": "text/x-python",
   "name": "python",
   "nbconvert_exporter": "python",
   "pygments_lexer": "ipython3",
   "version": "3.8.5"
  }
 },
 "nbformat": 4,
 "nbformat_minor": 4
}
