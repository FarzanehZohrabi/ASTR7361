{
 "cells": [
  {
   "cell_type": "markdown",
   "metadata": {},
   "source": [
    "Farzaneh Zohrabi\n",
    "First Assignment"
   ]
  },
  {
   "cell_type": "markdown",
   "metadata": {},
   "source": [
    "# Assignment 1: Python coding practice\n",
    "\n",
    "You do not need to master python coding to do well in this course, but you do need to learn enough to get by. This assignment aims to reinforce some of the key aspects of the python language that you will use regularly throughout the course.\n",
    "\n",
    "Before trying to complete the assignment, work through each of the sections listed under \"Learn the Basics\" at [learnpython.org](https://www.learnpython.org/). If you would find a video lecture helpful, the LSU's High Performance Computing center offers training in various aspects of computing, including python. You can find a recording of their \"Introduction to Python\" course on their [training archive](http://www.hpc.lsu.edu/training/archive/tutorials.php), as well as a link to interactive \"slides\" that can be used in a similar way to learnpython.org.\n",
    "\n",
    "## Part A: Variables, printing, and control structures\n",
    "\n",
    "1. Write a piece of code to solve the following quadratic equation for $x$:\n",
    "$$\n",
    "2.5 x^2 - 17.5 x - 20.0 = 0\n",
    "$$\n",
    "using the quadratic formula. Use **variables** to store the coefficients, and **print** the solution(s) as part of a single sentence using **string formatting**. Use **comments** to explain what you are doing. You can find basic mathematical functions in the `math` or `numpy` **modules**.\n",
    "Once you are done, run the code, either by pressing the \"play\" button above, or typing Shift+Enter."
   ]
  },
  {
   "cell_type": "code",
   "execution_count": 7,
   "metadata": {
    "execution": {
     "iopub.execute_input": "2022-08-30T22:56:53.385856Z",
     "iopub.status.busy": "2022-08-30T22:56:53.384028Z",
     "iopub.status.idle": "2022-08-30T22:56:54.041031Z",
     "shell.execute_reply": "2022-08-30T22:56:54.038887Z",
     "shell.execute_reply.started": "2022-08-30T22:56:53.385800Z"
    },
    "tags": []
   },
   "outputs": [],
   "source": [
    "#imports\n",
    "import numpy as np\n",
    "import matplotlib.pyplot as plt #import pyplot and rename it plt for short\n",
    "from scipy.optimize import curve_fit\n",
    "from scipy.optimize import minimize\n"
   ]
  },
  {
   "cell_type": "code",
   "execution_count": 8,
   "metadata": {
    "execution": {
     "iopub.execute_input": "2022-08-30T22:56:55.235393Z",
     "iopub.status.busy": "2022-08-30T22:56:55.234841Z",
     "iopub.status.idle": "2022-08-30T22:56:55.249840Z",
     "shell.execute_reply": "2022-08-30T22:56:55.248088Z",
     "shell.execute_reply.started": "2022-08-30T22:56:55.235341Z"
    },
    "tags": []
   },
   "outputs": [
    {
     "name": "stdout",
     "output_type": "stream",
     "text": [
      "First root is equal to 8.0  and the second root is -1.0\n"
     ]
    }
   ],
   "source": [
    "a = 2.5\n",
    "b = -17.5\n",
    "c = -20.0\n",
    "delta = b**2 - 4*a*c\n",
    "r1 = (- b + np.sqrt(delta))/(2 * a)\n",
    "r2 = (- b - np.sqrt(delta))/(2 * a)\n",
    "\n",
    "print(\"First root is equal to\"  , r1 , \" and the second root is\" , r2)"
   ]
  },
  {
   "cell_type": "markdown",
   "metadata": {},
   "source": [
    "2. Try adjusting one or more of the coefficients and run the cell again. Make some notes about what you find in the following markup cell. E.g., First try making some small adjustments to the coefficient values, then try picking coefficients that will give you a complex solution (i.e., where $b^2-4ac<0$)."
   ]
  },
  {
   "cell_type": "markdown",
   "metadata": {},
   "source": [
    "a = 3.0\n",
    "b = 4.5\n",
    "c = 7.5\n",
    "delta = b**2 - 4*a*c\n",
    "if delta < 0: \n",
    "    print(\"imaginary\")\n",
    "\n",
    "When the coefficients change, it give the error of ( invalid value encountered in sqrt\n",
    "  r1 = (- b + np.sqrt(delta))/(2 * a)) because the solution is a complex number"
   ]
  },
  {
   "cell_type": "markdown",
   "metadata": {},
   "source": [
    "3. Reset the coefficients to their original values and rerun the cell above. Below, write a **function** to evaluate a general quadratic equation ($y=ax^2+bx+c$), and use this function to check that your solution to the quadratic with the original coefficients is correct. The function should have four arguments: x and the three coefficients. Use an `if` **conditional statement** to print a success or failure message, depending on the result. Again, use **comments** throughout."
   ]
  },
  {
   "cell_type": "code",
   "execution_count": 9,
   "metadata": {
    "execution": {
     "iopub.execute_input": "2022-08-30T22:56:59.125733Z",
     "iopub.status.busy": "2022-08-30T22:56:59.124517Z",
     "iopub.status.idle": "2022-08-30T22:56:59.146426Z",
     "shell.execute_reply": "2022-08-30T22:56:59.144890Z",
     "shell.execute_reply.started": "2022-08-30T22:56:59.125663Z"
    },
    "tags": []
   },
   "outputs": [
    {
     "name": "stdout",
     "output_type": "stream",
     "text": [
      "First root is real and equal to 8.0  and the second root is real and -1.0\n"
     ]
    }
   ],
   "source": [
    "a = 2.5\n",
    "b = -17.5\n",
    "c = -20.0\n",
    "delta = b**2 - 4*a*c\n",
    "def quadratic_eq(x, a, b, c):\n",
    "    return a*x**2 + b*x + c\n",
    "def quad(a,b,c):\n",
    "    if delta<0 :\n",
    "        print(\"The root is an imaginary number\")\n",
    "    else:\n",
    "        r1 = (- b + np.sqrt(delta))/(2 * a)\n",
    "        r2 = (- b - np.sqrt(delta))/(2 * a)\n",
    "        \n",
    "        print(\"First root is real and equal to\"  , r1 , \" and the second root is real and\" , r2)\n",
    "\n",
    "#quadratic_eq(a, b, c)\n",
    "quad(a,b,c)"
   ]
  },
  {
   "cell_type": "markdown",
   "metadata": {},
   "source": [
    "4. Try running both cells again after changing the values of the coefficients by small amounts relative to the original values. Make some notes in the markup cell below on whether your code performed differently for different inputs relative to the original coefficient values. Think about what changes you could make to the code to get more reliable performance from it."
   ]
  },
  {
   "cell_type": "markdown",
   "metadata": {},
   "source": [
    "I just used if condition to to make sure the code won't break because of complex solutions."
   ]
  },
  {
   "cell_type": "markdown",
   "metadata": {},
   "source": [
    "# Part B: Plotting, NumPy, files, and basic polynomial fitting\n",
    "\n",
    "Plotting is going to be essential in the course, so you might as well learn the basics now. The standard python plotting language is called `matplotlib`, and it is easiest to use through its sub-package `pyplot`, which gives you an interface that behaves similarly to Matlab. The [pyplot tutorial](https://matplotlib.org/stable/tutorials/introductory/pyplot.html#sphx-glr-tutorials-introductory-pyplot-py) gives you an introduction to many of the things you might want to do with `pyplot`, but for now we'll make the simplest possible plot. I've put in the outline of the plotting commands below, but you'll need to supply the data to plot. There are many ways to do this, but for now, please write code that meets the following requirements.\n",
    "\n",
    "1. Create a **list** with a series of x values between -6 and 10 that you enter by hand. Create an **empty list** to store the y values. Use a **loop** to **append** a y value to the list for each x value, with the y value computed using the **function** you wrote earlier. This way of doing things may be familiar to you if you've written C or C++ code previously."
   ]
  },
  {
   "cell_type": "code",
   "execution_count": 10,
   "metadata": {
    "execution": {
     "iopub.execute_input": "2022-08-30T22:57:02.657550Z",
     "iopub.status.busy": "2022-08-30T22:57:02.656507Z",
     "iopub.status.idle": "2022-08-30T22:57:03.121410Z",
     "shell.execute_reply": "2022-08-30T22:57:03.119821Z",
     "shell.execute_reply.started": "2022-08-30T22:57:02.657440Z"
    },
    "tags": []
   },
   "outputs": [
    {
     "name": "stdout",
     "output_type": "stream",
     "text": [
      "[-6, -4, -3, 9, -1, 6, 8, 3, 1, 4] [175.0, 90.0, 55.0, 25.0, 0.0, -35.0, 0.0, -50.0, -35.0, -50.0]\n"
     ]
    },
    {
     "data": {
      "image/png": "[encoded data removed]",
      "text/plain": [
       "<Figure size 432x288 with 1 Axes>"
      ]
     },
     "metadata": {
      "needs_background": "light"
     },
     "output_type": "display_data"
    }
   ],
   "source": [
    "import matplotlib.pyplot as plt #import pyplot and rename it plt for short\n",
    "\n",
    "#Insert code here to produce the lists of x and y values needed by the plot commands below\n",
    "xlist = [-6,-4,-3, 9, -1, 6, 8,3,1, 4] #choose random numbers\n",
    "ylist= []\n",
    "for i in range(len(xlist)):\n",
    "    x = xlist[i]\n",
    "    y = quadratic_eq(x, a, b, c)\n",
    "    ylist.append(y)\n",
    "\n",
    "print(xlist, ylist)\n",
    "    \n",
    "    \n",
    "plt.figure() #set up a figure\n",
    "plt.plot(xlist,ylist, 'o') #issue the plot command\n",
    "plt.xlabel('x') #Set the axis labels\n",
    "plt.ylabel('y')\n",
    "plt.show() #Show the plot"
   ]
  },
  {
   "cell_type": "code",
   "execution_count": 11,
   "metadata": {
    "execution": {
     "iopub.execute_input": "2022-08-30T22:57:06.125580Z",
     "iopub.status.busy": "2022-08-30T22:57:06.124767Z",
     "iopub.status.idle": "2022-08-30T22:57:06.468410Z",
     "shell.execute_reply": "2022-08-30T22:57:06.466576Z",
     "shell.execute_reply.started": "2022-08-30T22:57:06.125498Z"
    },
    "tags": []
   },
   "outputs": [
    {
     "name": "stdout",
     "output_type": "stream",
     "text": [
      "[-6, -5, -4, -3, -2, -1, 0, 1, 2, 3, 4, 5, 6, 7, 8, 9] [175.0, 130.0, 90.0, 55.0, 25.0, 0.0, -20.0, -35.0, -45.0, -50.0, -50.0, -45.0, -35.0, -20.0, 0.0, 25.0]\n"
     ]
    },
    {
     "data": {
      "image/png": "[encoded data removed]",
      "text/plain": [
       "<Figure size 432x288 with 1 Axes>"
      ]
     },
     "metadata": {
      "needs_background": "light"
     },
     "output_type": "display_data"
    }
   ],
   "source": [
    "ylist = []\n",
    "xlist = []\n",
    "for i in range(-6,10):\n",
    "    #x = xlist[i]\n",
    "    y = quadratic_eq(i, a, b, c)\n",
    "    xlist.append(i)\n",
    "    ylist.append(y)\n",
    "\n",
    "print(xlist, ylist)\n",
    "    \n",
    "    \n",
    "plt.figure() #set up a figure\n",
    "plt.plot(xlist,ylist, 'o') #issue the plot command\n",
    "plt.xlabel('x') #Set the axis labels\n",
    "plt.ylabel('y')\n",
    "plt.show() #Show the plot"
   ]
  },
  {
   "cell_type": "markdown",
   "metadata": {},
   "source": [
    "Numpy is a package built for performing efficient numerical calculations in python. Python loops are quite inefficient, and loops are common in a lot of numerical calculations. Numpy allows you to perform loops implicitly on list-like objects called arrays. Arrays can have one or more dimensions - a 1-d array is like a list, a 2-d array is like a table or matrix; more dimensions are possible. You can read more about numpy under the Data Science Tutorials heading on learnpython.org.\n",
    "\n",
    "2. Repeat the task of generating the data to plot in the previous cell using **numpy arrays** an **implcit loop**, this time aiming to achieve higher resolution in the plot. You might find the numpy function `linspace` helpful. You can get help on most functions by using the help function, e.g., `help(numpy.linspace)`. Once the data is generated, plot it."
   ]
  },
  {
   "cell_type": "code",
   "execution_count": 2,
   "metadata": {
    "execution": {
     "iopub.execute_input": "2022-08-30T22:53:42.130719Z",
     "iopub.status.busy": "2022-08-30T22:53:42.130050Z",
     "iopub.status.idle": "2022-08-30T22:53:42.143610Z",
     "shell.execute_reply": "2022-08-30T22:53:42.141690Z",
     "shell.execute_reply.started": "2022-08-30T22:53:42.130667Z"
    },
    "tags": []
   },
   "outputs": [
    {
     "name": "stdout",
     "output_type": "stream",
     "text": [
      "Help on function linspace in module numpy:\n",
      "\n",
      "linspace(start, stop, num=50, endpoint=True, retstep=False, dtype=None, axis=0)\n",
      "    Return evenly spaced numbers over a specified interval.\n",
      "    \n",
      "    Returns `num` evenly spaced samples, calculated over the\n",
      "    interval [`start`, `stop`].\n",
      "    \n",
      "    The endpoint of the interval can optionally be excluded.\n",
      "    \n",
      "    .. versionchanged:: 1.16.0\n",
      "        Non-scalar `start` and `stop` are now supported.\n",
      "    \n",
      "    .. versionchanged:: 1.20.0\n",
      "        Values are rounded towards ``-inf`` instead of ``0`` when an\n",
      "        integer ``dtype`` is specified. The old behavior can\n",
      "        still be obtained with ``np.linspace(start, stop, num).astype(int)``\n",
      "    \n",
      "    Parameters\n",
      "    ----------\n",
      "    start : array_like\n",
      "        The starting value of the sequence.\n",
      "    stop : array_like\n",
      "        The end value of the sequence, unless `endpoint` is set to False.\n",
      "        In that case, the sequence consists of all but the last of ``num + 1``\n",
      "        evenly spaced samples, so that `stop` is excluded.  Note that the step\n",
      "        size changes when `endpoint` is False.\n",
      "    num : int, optional\n",
      "        Number of samples to generate. Default is 50. Must be non-negative.\n",
      "    endpoint : bool, optional\n",
      "        If True, `stop` is the last sample. Otherwise, it is not included.\n",
      "        Default is True.\n",
      "    retstep : bool, optional\n",
      "        If True, return (`samples`, `step`), where `step` is the spacing\n",
      "        between samples.\n",
      "    dtype : dtype, optional\n",
      "        The type of the output array.  If `dtype` is not given, the data type\n",
      "        is inferred from `start` and `stop`. The inferred dtype will never be\n",
      "        an integer; `float` is chosen even if the arguments would produce an\n",
      "        array of integers.\n",
      "    \n",
      "        .. versionadded:: 1.9.0\n",
      "    \n",
      "    axis : int, optional\n",
      "        The axis in the result to store the samples.  Relevant only if start\n",
      "        or stop are array-like.  By default (0), the samples will be along a\n",
      "        new axis inserted at the beginning. Use -1 to get an axis at the end.\n",
      "    \n",
      "        .. versionadded:: 1.16.0\n",
      "    \n",
      "    Returns\n",
      "    -------\n",
      "    samples : ndarray\n",
      "        There are `num` equally spaced samples in the closed interval\n",
      "        ``[start, stop]`` or the half-open interval ``[start, stop)``\n",
      "        (depending on whether `endpoint` is True or False).\n",
      "    step : float, optional\n",
      "        Only returned if `retstep` is True\n",
      "    \n",
      "        Size of spacing between samples.\n",
      "    \n",
      "    \n",
      "    See Also\n",
      "    --------\n",
      "    arange : Similar to `linspace`, but uses a step size (instead of the\n",
      "             number of samples).\n",
      "    geomspace : Similar to `linspace`, but with numbers spaced evenly on a log\n",
      "                scale (a geometric progression).\n",
      "    logspace : Similar to `geomspace`, but with the end points specified as\n",
      "               logarithms.\n",
      "    \n",
      "    Examples\n",
      "    --------\n",
      "    >>> np.linspace(2.0, 3.0, num=5)\n",
      "    array([2.  , 2.25, 2.5 , 2.75, 3.  ])\n",
      "    >>> np.linspace(2.0, 3.0, num=5, endpoint=False)\n",
      "    array([2. ,  2.2,  2.4,  2.6,  2.8])\n",
      "    >>> np.linspace(2.0, 3.0, num=5, retstep=True)\n",
      "    (array([2.  ,  2.25,  2.5 ,  2.75,  3.  ]), 0.25)\n",
      "    \n",
      "    Graphical illustration:\n",
      "    \n",
      "    >>> import matplotlib.pyplot as plt\n",
      "    >>> N = 8\n",
      "    >>> y = np.zeros(N)\n",
      "    >>> x1 = np.linspace(0, 10, N, endpoint=True)\n",
      "    >>> x2 = np.linspace(0, 10, N, endpoint=False)\n",
      "    >>> plt.plot(x1, y, 'o')\n",
      "    [<matplotlib.lines.Line2D object at 0x...>]\n",
      "    >>> plt.plot(x2, y + 0.5, 'o')\n",
      "    [<matplotlib.lines.Line2D object at 0x...>]\n",
      "    >>> plt.ylim([-0.5, 1])\n",
      "    (-0.5, 1)\n",
      "    >>> plt.show()\n",
      "\n"
     ]
    }
   ],
   "source": [
    "import numpy as np\n",
    "help(np.linspace)\n"
   ]
  },
  {
   "cell_type": "code",
   "execution_count": 12,
   "metadata": {
    "execution": {
     "iopub.execute_input": "2022-08-30T22:57:15.125377Z",
     "iopub.status.busy": "2022-08-30T22:57:15.124599Z",
     "iopub.status.idle": "2022-08-30T22:57:15.483639Z",
     "shell.execute_reply": "2022-08-30T22:57:15.481581Z",
     "shell.execute_reply.started": "2022-08-30T22:57:15.125297Z"
    },
    "tags": []
   },
   "outputs": [
    {
     "name": "stdout",
     "output_type": "stream",
     "text": [
      "[-6.         -5.15789474 -4.31578947 -3.47368421 -2.63157895 -1.78947368\n",
      " -0.94736842 -0.10526316  0.73684211  1.57894737  2.42105263  3.26315789\n",
      "  4.10526316  4.94736842  5.78947368  6.63157895  7.47368421  8.31578947\n",
      "  9.15789474 10.        ] [175.0, 136.77285318559558, 102.09141274238227, 70.95567867036011, 43.36565096952909, 19.321329639889207, -1.177285318559548, -18.13019390581717, -31.537396121883653, -41.398891966758995, -47.71468144044321, -50.48476454293629, -49.709141274238235, -45.38781163434904, -37.520775623268705, -26.10803324099723, -11.14958448753464, 7.354570637119082, 29.40443213296396, 55.0]\n"
     ]
    },
    {
     "data": {
      "image/png": "[encoded data removed]",
      "text/plain": [
       "<Figure size 432x288 with 1 Axes>"
      ]
     },
     "metadata": {
      "needs_background": "light"
     },
     "output_type": "display_data"
    }
   ],
   "source": [
    "ylist = []\n",
    "xlist = np.linspace(-6, 10, 20, endpoint=True)\n",
    "for i in range(len(xlist)):\n",
    "    x = xlist[i]\n",
    "    y = quadratic_eq(x, a, b, c)\n",
    "    #xlist.append(i)\n",
    "    ylist.append(y)\n",
    "\n",
    "print(xlist, ylist)\n",
    "    \n",
    "    \n",
    "plt.figure() #set up a figure\n",
    "plt.plot(xlist,ylist, 'o') #issue the plot command\n",
    "plt.xlabel('x') #Set the axis labels\n",
    "plt.ylabel('y')\n",
    "plt.show() #Show the plot"
   ]
  },
  {
   "cell_type": "markdown",
   "metadata": {},
   "source": [
    "To focus the telescope we will take measurements of the size of stars at different focus positions and search for the focus position that gives the minimum sized star. The size of the star as a function of focus position is well approximated by a quadratic, so an efficient method of finding the focus is to take a few measurements, fit a quadratic function, and then find its minimum. Here is a table of focus measurements taken previously:\n",
    "\n",
    "|Focus position|Star size (pixels)|\n",
    "|--------------|------------------|\n",
    "|-40|4.85|\n",
    "|-20|3.71|\n",
    "|0|2.56|\n",
    "|20|2.51|\n",
    "|40|3.17|\n",
    "\n",
    "Create a new CSV (comma separated variable) file by going to the File menu above, clicking \"New Launcher,\" then selecting the \"CSV file\" app - it will open up a spreadsheet. Add a column and 5 rows, then copy in the values from the table above into the csv file. Save it with a sensible filename (e.g., focus.csv). \n",
    "\n",
    "3. Write code to **load the csv file** into a numpy array using the numpy `loadtxt` function using the optional arguments `skiprows=1,delimiter=','`. Plot the focus data using **stride array indexing** to access the individual columns from the csv file (now a 2-d array). You'll want to use a point style formatting for the data points, rather than a line. Don't forget axis labels.\n",
    "\n"
   ]
  },
  {
   "cell_type": "code",
   "execution_count": 9,
   "metadata": {
    "execution": {
     "iopub.execute_input": "2022-08-26T02:00:24.113809Z",
     "iopub.status.busy": "2022-08-26T02:00:24.113208Z",
     "iopub.status.idle": "2022-08-26T02:00:24.462371Z",
     "shell.execute_reply": "2022-08-26T02:00:24.460722Z",
     "shell.execute_reply.started": "2022-08-26T02:00:24.113759Z"
    },
    "tags": []
   },
   "outputs": [
    {
     "data": {
      "image/png": "[encoded data removed]",
      "text/plain": [
       "<Figure size 432x288 with 1 Axes>"
      ]
     },
     "metadata": {
      "needs_background": "light"
     },
     "output_type": "display_data"
    }
   ],
   "source": [
    "focus = np.loadtxt(\"focus.csv\", skiprows=1,delimiter=',')\n",
    "plt.figure()\n",
    "plt.plot(focus[:,0], focus[:,1], 'o') \n",
    "plt.xlabel('Focus Position') \n",
    "plt.ylabel('Star Size (pixels)')\n",
    "plt.show()"
   ]
  },
  {
   "cell_type": "markdown",
   "metadata": {},
   "source": [
    "The points you plotted should look roughly quadratic, so lets fit for the best fit our quadratic function to the data. The `curve_fit` function in the `scipy.optimize` package is very easy to use, and has an example of its use at the bottom of its [documentation](https://docs.scipy.org/doc/scipy/reference/generated/scipy.optimize.curve_fit.html).\n",
    "\n",
    "4. Fit a quadratic **function** to the focus data and **plot** the resulting model as a line in addition to plotting the data on the same plot. **Find the minimum** of the best fit quadratic curve, either analytically or numerically, and **print** the focus value and star size at the minimum. "
   ]
  },
  {
   "cell_type": "code",
   "execution_count": 12,
   "metadata": {
    "execution": {
     "iopub.execute_input": "2022-08-26T02:01:43.115174Z",
     "iopub.status.busy": "2022-08-26T02:01:43.114603Z",
     "iopub.status.idle": "2022-08-26T02:01:43.128773Z",
     "shell.execute_reply": "2022-08-26T02:01:43.126942Z",
     "shell.execute_reply.started": "2022-08-26T02:01:43.115123Z"
    },
    "tags": []
   },
   "outputs": [],
   "source": [
    "xlist = focus[:,0]\n",
    "ylist = focus[:,1]\n",
    "rangex = np.arange(-50, 50)\n",
    "popt,pcov = curve_fit(quadratic_eq, xlist, ylist)\n",
    "fit = quadratic_eq(rangex, *popt) "
   ]
  },
  {
   "cell_type": "code",
   "execution_count": 13,
   "metadata": {
    "execution": {
     "iopub.execute_input": "2022-08-26T02:02:28.694953Z",
     "iopub.status.busy": "2022-08-26T02:02:28.694313Z",
     "iopub.status.idle": "2022-08-26T02:02:29.042633Z",
     "shell.execute_reply": "2022-08-26T02:02:29.040741Z",
     "shell.execute_reply.started": "2022-08-26T02:02:28.694901Z"
    }
   },
   "outputs": [
    {
     "data": {
      "image/png": "[encoded data removed]",
      "text/plain": [
       "<Figure size 432x288 with 1 Axes>"
      ]
     },
     "metadata": {
      "needs_background": "light"
     },
     "output_type": "display_data"
    }
   ],
   "source": [
    "plt.figure() \n",
    "plt.plot(xlist, ylist, \"o\") \n",
    "plt.plot(rangex, fit)\n",
    "plt.xlabel('Focus Position') \n",
    "plt.ylabel('Star Size (pixels)')\n",
    "plt.show() "
   ]
  },
  {
   "cell_type": "code",
   "execution_count": 16,
   "metadata": {
    "execution": {
     "iopub.execute_input": "2022-08-26T02:04:28.145221Z",
     "iopub.status.busy": "2022-08-26T02:04:28.143694Z",
     "iopub.status.idle": "2022-08-26T02:04:28.165729Z",
     "shell.execute_reply": "2022-08-26T02:04:28.163429Z",
     "shell.execute_reply.started": "2022-08-26T02:04:28.145169Z"
    }
   },
   "outputs": [
    {
     "name": "stdout",
     "output_type": "stream",
     "text": [
      "      fun: 2.533725471559664\n",
      " hess_inv: array([[595.74386454]])\n",
      "      jac: array([-2.98023224e-08])\n",
      "  message: 'Optimization terminated successfully.'\n",
      "     nfev: 14\n",
      "      nit: 3\n",
      "     njev: 7\n",
      "   status: 0\n",
      "  success: True\n",
      "        x: array([13.58296112])\n"
     ]
    }
   ],
   "source": [
    "minimum = scipy.optimize.minimize(lambda rangex: quadratic_eq(rangex, *popt), 0)\n",
    "print(minimum)"
   ]
  },
  {
   "cell_type": "code",
   "execution_count": 19,
   "metadata": {
    "execution": {
     "iopub.execute_input": "2022-08-26T02:06:47.185142Z",
     "iopub.status.busy": "2022-08-26T02:06:47.184581Z",
     "iopub.status.idle": "2022-08-26T02:06:47.197773Z",
     "shell.execute_reply": "2022-08-26T02:06:47.195780Z",
     "shell.execute_reply.started": "2022-08-26T02:06:47.185089Z"
    },
    "tags": []
   },
   "outputs": [
    {
     "name": "stdout",
     "output_type": "stream",
     "text": [
      "Focus is  13.58296112239498\n",
      "Minimum star size is 2.533725471559664\n"
     ]
    }
   ],
   "source": [
    "print(\"Focus is \", minimum.x[0])\n",
    "print(\"Minimum star size is\", minimum.fun)"
   ]
  }
 ],
 "metadata": {
  "kernelspec": {
   "display_name": "Python 3.8 (py38)",
   "language": "python",
   "name": "py38"
  },
  "language_info": {
   "codemirror_mode": {
    "name": "ipython",
    "version": 3
   },
   "file_extension": ".py",
   "mimetype": "text/x-python",
   "name": "python",
   "nbconvert_exporter": "python",
   "pygments_lexer": "ipython3",
   "version": "3.8.5"
  }
 },
 "nbformat": 4,
 "nbformat_minor": 4
}
